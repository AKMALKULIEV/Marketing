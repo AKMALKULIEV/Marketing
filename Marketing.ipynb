{
 "cells": [
  {
   "cell_type": "markdown",
   "metadata": {},
   "source": [
    "Decomposition\n",
    "1. Import data & Import Library\n",
    "2. Wrangle data || Drop Duplicates & Nan \n",
    "3. Feature Eng || Join tables\n",
    "4. Run multicollinearity \n",
    "5. Run Model\n",
    "6. Conclusion \n"
   ]
  },
  {
   "cell_type": "code",
   "execution_count": 2,
   "metadata": {},
   "outputs": [],
   "source": [
    "import pandas as pd"
   ]
  },
  {
   "cell_type": "code",
   "execution_count": 3,
   "metadata": {},
   "outputs": [],
   "source": [
    "messages = pd.read_csv('/Users/akmal/Documents/Masterskaya/STD_M2_purchase_in_90_days/filtered_data/apparel-messages.csv')\n",
    "purchases = pd.read_csv('/Users/akmal/Documents/Masterskaya/STD_M2_purchase_in_90_days/filtered_data/apparel-purchases.csv')\n",
    "target_binary = pd.read_csv('/Users/akmal/Documents/Masterskaya/STD_M2_purchase_in_90_days/filtered_data/apparel-target_binary.csv')"
   ]
  },
  {
   "cell_type": "code",
   "execution_count": 4,
   "metadata": {},
   "outputs": [
    {
     "name": "stdout",
     "output_type": "stream",
     "text": [
      "<class 'pandas.core.frame.DataFrame'>\n",
      "RangeIndex: 202208 entries, 0 to 202207\n",
      "Data columns (total 6 columns):\n",
      " #   Column        Non-Null Count   Dtype  \n",
      "---  ------        --------------   -----  \n",
      " 0   client_id     202208 non-null  int64  \n",
      " 1   quantity      202208 non-null  int64  \n",
      " 2   price         202208 non-null  float64\n",
      " 3   category_ids  202208 non-null  object \n",
      " 4   date          202208 non-null  object \n",
      " 5   message_id    202208 non-null  object \n",
      "dtypes: float64(1), int64(2), object(3)\n",
      "memory usage: 9.3+ MB\n"
     ]
    }
   ],
   "source": [
    "purchases.info()"
   ]
  },
  {
   "cell_type": "code",
   "execution_count": 33,
   "metadata": {},
   "outputs": [
    {
     "data": {
      "text/html": [
       "<div>\n",
       "<style scoped>\n",
       "    .dataframe tbody tr th:only-of-type {\n",
       "        vertical-align: middle;\n",
       "    }\n",
       "\n",
       "    .dataframe tbody tr th {\n",
       "        vertical-align: top;\n",
       "    }\n",
       "\n",
       "    .dataframe thead th {\n",
       "        text-align: right;\n",
       "    }\n",
       "</style>\n",
       "<table border=\"1\" class=\"dataframe\">\n",
       "  <thead>\n",
       "    <tr style=\"text-align: right;\">\n",
       "      <th></th>\n",
       "      <th>client_id</th>\n",
       "      <th>price</th>\n",
       "      <th>category_ids</th>\n",
       "      <th>date</th>\n",
       "      <th>message_id</th>\n",
       "      <th>quantity</th>\n",
       "    </tr>\n",
       "  </thead>\n",
       "  <tbody>\n",
       "    <tr>\n",
       "      <th>0</th>\n",
       "      <td>1515915625468060902</td>\n",
       "      <td>199.0</td>\n",
       "      <td>['4', '27', '176', '458']</td>\n",
       "      <td>2022-05-27</td>\n",
       "      <td>1515915625468060902-4617-6290657dac196</td>\n",
       "      <td>2</td>\n",
       "    </tr>\n",
       "    <tr>\n",
       "      <th>1</th>\n",
       "      <td>1515915625468060902</td>\n",
       "      <td>299.0</td>\n",
       "      <td>['4', '28', '290', '422']</td>\n",
       "      <td>2022-05-27</td>\n",
       "      <td>1515915625468060902-4617-6290657dac196</td>\n",
       "      <td>1</td>\n",
       "    </tr>\n",
       "    <tr>\n",
       "      <th>2</th>\n",
       "      <td>1515915625468060902</td>\n",
       "      <td>999.0</td>\n",
       "      <td>['4', '28', '244', '432']</td>\n",
       "      <td>2022-05-27</td>\n",
       "      <td>1515915625468060902-4617-6290657dac196</td>\n",
       "      <td>1</td>\n",
       "    </tr>\n",
       "    <tr>\n",
       "      <th>3</th>\n",
       "      <td>1515915625468060902</td>\n",
       "      <td>1299.0</td>\n",
       "      <td>['4', '27', '1828', '1599']</td>\n",
       "      <td>2022-05-27</td>\n",
       "      <td>1515915625468060902-4617-6290657dac196</td>\n",
       "      <td>1</td>\n",
       "    </tr>\n",
       "    <tr>\n",
       "      <th>4</th>\n",
       "      <td>1515915625468060902</td>\n",
       "      <td>1999.0</td>\n",
       "      <td>['4', '28', '260', '420']</td>\n",
       "      <td>2022-05-27</td>\n",
       "      <td>1515915625468060902-4617-6290657dac196</td>\n",
       "      <td>2</td>\n",
       "    </tr>\n",
       "    <tr>\n",
       "      <th>...</th>\n",
       "      <td>...</td>\n",
       "      <td>...</td>\n",
       "      <td>...</td>\n",
       "      <td>...</td>\n",
       "      <td>...</td>\n",
       "      <td>...</td>\n",
       "    </tr>\n",
       "    <tr>\n",
       "      <th>129013</th>\n",
       "      <td>1515915626010261344</td>\n",
       "      <td>1499.0</td>\n",
       "      <td>['2', '18', '212', '726']</td>\n",
       "      <td>2024-02-16</td>\n",
       "      <td>1515915626010261344-14648-65cdb6d56c4c8</td>\n",
       "      <td>6</td>\n",
       "    </tr>\n",
       "    <tr>\n",
       "      <th>129014</th>\n",
       "      <td>1515915626010266132</td>\n",
       "      <td>909.0</td>\n",
       "      <td>['4', '27', '278', '470']</td>\n",
       "      <td>2024-02-14</td>\n",
       "      <td>1515915625999374481-14623-65c5c5acbad8c</td>\n",
       "      <td>2</td>\n",
       "    </tr>\n",
       "    <tr>\n",
       "      <th>129015</th>\n",
       "      <td>1515915626010439406</td>\n",
       "      <td>99.0</td>\n",
       "      <td>['4', '27', '233', '462']</td>\n",
       "      <td>2024-02-16</td>\n",
       "      <td>1515915625776605028-14662-65cf3abfe4f0d</td>\n",
       "      <td>2</td>\n",
       "    </tr>\n",
       "    <tr>\n",
       "      <th>129016</th>\n",
       "      <td>1515915626010443527</td>\n",
       "      <td>1999.0</td>\n",
       "      <td>['2', '18', '274', '446']</td>\n",
       "      <td>2024-02-16</td>\n",
       "      <td>1515915625766077627-14668-65cf5246bd490</td>\n",
       "      <td>1</td>\n",
       "    </tr>\n",
       "    <tr>\n",
       "      <th>129017</th>\n",
       "      <td>1515915626010443624</td>\n",
       "      <td>999.0</td>\n",
       "      <td>['4', '28', '62', '656']</td>\n",
       "      <td>2024-02-16</td>\n",
       "      <td>1515915625488468007-14668-65cf5234b1295</td>\n",
       "      <td>1</td>\n",
       "    </tr>\n",
       "  </tbody>\n",
       "</table>\n",
       "<p>129018 rows × 6 columns</p>\n",
       "</div>"
      ],
      "text/plain": [
       "                  client_id   price                 category_ids        date  \\\n",
       "0       1515915625468060902   199.0    ['4', '27', '176', '458']  2022-05-27   \n",
       "1       1515915625468060902   299.0    ['4', '28', '290', '422']  2022-05-27   \n",
       "2       1515915625468060902   999.0    ['4', '28', '244', '432']  2022-05-27   \n",
       "3       1515915625468060902  1299.0  ['4', '27', '1828', '1599']  2022-05-27   \n",
       "4       1515915625468060902  1999.0    ['4', '28', '260', '420']  2022-05-27   \n",
       "...                     ...     ...                          ...         ...   \n",
       "129013  1515915626010261344  1499.0    ['2', '18', '212', '726']  2024-02-16   \n",
       "129014  1515915626010266132   909.0    ['4', '27', '278', '470']  2024-02-14   \n",
       "129015  1515915626010439406    99.0    ['4', '27', '233', '462']  2024-02-16   \n",
       "129016  1515915626010443527  1999.0    ['2', '18', '274', '446']  2024-02-16   \n",
       "129017  1515915626010443624   999.0     ['4', '28', '62', '656']  2024-02-16   \n",
       "\n",
       "                                     message_id  quantity  \n",
       "0        1515915625468060902-4617-6290657dac196         2  \n",
       "1        1515915625468060902-4617-6290657dac196         1  \n",
       "2        1515915625468060902-4617-6290657dac196         1  \n",
       "3        1515915625468060902-4617-6290657dac196         1  \n",
       "4        1515915625468060902-4617-6290657dac196         2  \n",
       "...                                         ...       ...  \n",
       "129013  1515915626010261344-14648-65cdb6d56c4c8         6  \n",
       "129014  1515915625999374481-14623-65c5c5acbad8c         2  \n",
       "129015  1515915625776605028-14662-65cf3abfe4f0d         2  \n",
       "129016  1515915625766077627-14668-65cf5246bd490         1  \n",
       "129017  1515915625488468007-14668-65cf5234b1295         1  \n",
       "\n",
       "[129018 rows x 6 columns]"
      ]
     },
     "execution_count": 33,
     "metadata": {},
     "output_type": "execute_result"
    }
   ],
   "source": [
    "purchases.groupby(['client_id', 'price', 'category_ids', 'date', 'message_id'],as_index=False)['quantity'].sum()"
   ]
  },
  {
   "cell_type": "code",
   "execution_count": 32,
   "metadata": {},
   "outputs": [
    {
     "name": "stdout",
     "output_type": "stream",
     "text": [
      "<class 'pandas.core.frame.DataFrame'>\n",
      "RangeIndex: 202208 entries, 0 to 202207\n",
      "Data columns (total 6 columns):\n",
      " #   Column        Non-Null Count   Dtype  \n",
      "---  ------        --------------   -----  \n",
      " 0   client_id     202208 non-null  int64  \n",
      " 1   quantity      202208 non-null  int64  \n",
      " 2   price         202208 non-null  float64\n",
      " 3   category_ids  202208 non-null  object \n",
      " 4   date          202208 non-null  object \n",
      " 5   message_id    202208 non-null  object \n",
      "dtypes: float64(1), int64(2), object(3)\n",
      "memory usage: 9.3+ MB\n"
     ]
    }
   ],
   "source": [
    "purchases.info()"
   ]
  },
  {
   "cell_type": "code",
   "execution_count": null,
   "metadata": {},
   "outputs": [],
   "source": []
  }
 ],
 "metadata": {
  "kernelspec": {
   "display_name": "Python 3",
   "language": "python",
   "name": "python3"
  },
  "language_info": {
   "codemirror_mode": {
    "name": "ipython",
    "version": 3
   },
   "file_extension": ".py",
   "mimetype": "text/x-python",
   "name": "python",
   "nbconvert_exporter": "python",
   "pygments_lexer": "ipython3",
   "version": "3.11.2"
  }
 },
 "nbformat": 4,
 "nbformat_minor": 2
}
